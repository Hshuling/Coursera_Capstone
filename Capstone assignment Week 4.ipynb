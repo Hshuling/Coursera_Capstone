{
 "cells": [
  {
   "cell_type": "markdown",
   "metadata": {},
   "source": [
    "# This notebook contains Introduction/Business problem and Data "
   ]
  },
  {
   "cell_type": "markdown",
   "metadata": {},
   "source": [
    "#### Introduction"
   ]
  },
  {
   "cell_type": "markdown",
   "metadata": {},
   "source": [
    "Sinapore being multi-racial country offers a wide variety of food from Indian cusine to even Japanese cusine. Despite being crown as the world's most expensive city for the fifth year in a row by The Economist Intelligence Unit, there are still many afforable food and cusine availble for Singaporeans. Using the skills and tools to use location data to explore geographical location (in this case Singapore), I will carefully review and select an area of choice to open up my food business which sells Hainanese chicken rice."
   ]
  },
  {
   "cell_type": "markdown",
   "metadata": {},
   "source": [
    "#### Data"
   ]
  },
  {
   "cell_type": "markdown",
   "metadata": {},
   "source": [
    "I'll need data including:\n",
    "1. surrounding attractions or sight seeing and offices if any\n",
    "2. any similar business of selling the same food as I am\n",
    "3. the catergory of venues \n",
    "\n",
    "The data needed allows me to start my business in an area with less competition and a high volume of people. Even with the requirements above, my budget also plays a huge part in deciding if I will or not set my business there. "
   ]
  },
  {
   "cell_type": "code",
   "execution_count": null,
   "metadata": {},
   "outputs": [],
   "source": []
  }
 ],
 "metadata": {
  "kernelspec": {
   "display_name": "Python 3",
   "language": "python",
   "name": "python3"
  },
  "language_info": {
   "codemirror_mode": {
    "name": "ipython",
    "version": 3
   },
   "file_extension": ".py",
   "mimetype": "text/x-python",
   "name": "python",
   "nbconvert_exporter": "python",
   "pygments_lexer": "ipython3",
   "version": "3.7.6"
  }
 },
 "nbformat": 4,
 "nbformat_minor": 4
}
